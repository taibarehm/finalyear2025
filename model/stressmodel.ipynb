{
  "cells": [
    {
      "cell_type": "markdown",
      "metadata": {
        "id": "CpY-dtpN6I65"
      },
      "source": [
        "# **1. Install packages**"
      ]
    },
    {
      "cell_type": "code",
      "metadata": {
        "colab": {
          "base_uri": "https://localhost:8080/"
        },
        "id": "rg4M_ObN8GbE",
        "outputId": "ebb64f24-6583-4346-eaa6-40fdc53d851b"
      },
      "source": [
        "import requests\n",
        "\n",
        "def download_file_from_google_drive(id, destination):\n",
        "    URL = \"https://docs.google.com/uc?export=download&id={}\"\n",
        "    session = requests.Session()\n",
        "    response = session.get(URL.format(id), stream=True)\n",
        "    token = get_confirm_token(session, response)\n",
        "\n",
        "    if token:\n",
        "        params = {'id': id, 'confirm': token}\n",
        "        response = session.get(URL.format(id), params=params, stream=True)\n",
        "\n",
        "    save_response_content(response, destination)\n",
        "\n",
        "def get_confirm_token(session, response):\n",
        "    for key, value in response.cookies.items():\n",
        "        if key.startswith('download'):\n",
        "            return value\n",
        "    return None\n",
        "\n",
        "def save_response_content(response, destination):\n",
        "    CHUNK_SIZE = 32768\n",
        "    with open(destination, \"wb\") as f:\n",
        "        for chunk in response.iter_content(CHUNK_SIZE):\n",
        "            if chunk:\n",
        "                f.write(chunk)\n",
        "\n",
        "# Replace 'YOUR_FILE_ID' with the actual file ID from the Google Drive link\n",
        "# The file ID is the string after '/d/' and before '/view' in the URL\n",
        "file_id = '1vfIhvWgS_9AePzEQQ-ct93WSd9iiP-3c'\n",
        "destination = 'data_stress.csv'\n",
        "download_file_from_google_drive(file_id, destination)\n",
        "\n",
        "print(f\"Downloaded {destination}\")"
      ],
      "execution_count": null,
      "outputs": [
        {
          "output_type": "stream",
          "name": "stdout",
          "text": [
            "Downloaded data_stress.csv\n"
          ]
        }
      ]
    },
    {
      "cell_type": "markdown",
      "metadata": {
        "id": "fE-2vg916I7B"
      },
      "source": [
        "# **2. Load libraries**"
      ]
    },
    {
      "cell_type": "code",
      "execution_count": null,
      "metadata": {
        "execution": {
          "iopub.execute_input": "2024-04-09T04:26:06.404643Z",
          "iopub.status.busy": "2024-04-09T04:26:06.403791Z",
          "iopub.status.idle": "2024-04-09T04:26:06.415294Z",
          "shell.execute_reply": "2024-04-09T04:26:06.414273Z",
          "shell.execute_reply.started": "2024-04-09T04:26:06.404583Z"
        },
        "trusted": true,
        "id": "WwOPWD7c6I7C"
      },
      "outputs": [],
      "source": [
        "import pandas as pd\n",
        "from sklearn.model_selection import train_test_split\n",
        "from sklearn.preprocessing import StandardScaler\n",
        "from catboost import CatBoostClassifier\n",
        "from lightgbm import LGBMClassifier\n",
        "from xgboost import XGBClassifier\n",
        "from sklearn.metrics import accuracy_score, precision_score, recall_score, f1_score, confusion_matrix, classification_report\n",
        "import matplotlib.pyplot as plt\n",
        "import seaborn as sns\n",
        "import numpy as np\n",
        "from skimpy import skim"
      ]
    },
    {
      "cell_type": "code",
      "execution_count": null,
      "metadata": {
        "colab": {
          "base_uri": "https://localhost:8080/"
        },
        "id": "tOEhHsNt6I7D",
        "outputId": "945eaaf5-246d-4014-b9dd-f0f3bf48029d"
      },
      "outputs": [
        {
          "output_type": "stream",
          "name": "stdout",
          "text": [
            "Python version: 3.11.13 (main, Jun  4 2025, 08:57:29) [GCC 11.4.0]\n",
            "SciPy version: 1.16.1\n",
            "Statsmodels version: 0.14.5\n"
          ]
        }
      ],
      "source": [
        "import sys\n",
        "try:\n",
        "    import scipy\n",
        "    scipy_version = scipy.__version__\n",
        "except ImportError:\n",
        "    scipy_version = \"Not installed\"\n",
        "\n",
        "try:\n",
        "    import statsmodels\n",
        "    statsmodels_version = statsmodels.__version__\n",
        "except ImportError:\n",
        "    statsmodels_version = \"Not installed\"\n",
        "\n",
        "print(f\"Python version: {sys.version}\")\n",
        "print(f\"SciPy version: {scipy_version}\")\n",
        "print(f\"Statsmodels version: {statsmodels_version}\")"
      ]
    },
    {
      "cell_type": "code",
      "execution_count": null,
      "metadata": {
        "colab": {
          "base_uri": "https://localhost:8080/"
        },
        "id": "-pWqbdRT6I7E",
        "outputId": "e2ce98bd-cb21-49e7-dd2c-6702db62e59c"
      },
      "outputs": [
        {
          "output_type": "stream",
          "name": "stdout",
          "text": [
            "Statsmodels imported successfully!\n"
          ]
        }
      ],
      "source": [
        "import statsmodels.api as sm\n",
        "print(\"Statsmodels imported successfully!\")"
      ]
    },
    {
      "cell_type": "markdown",
      "metadata": {
        "id": "inLMXzrd6I7E"
      },
      "source": [
        "# **3. Load data**"
      ]
    },
    {
      "cell_type": "code",
      "execution_count": null,
      "metadata": {
        "execution": {
          "iopub.execute_input": "2024-04-09T03:24:22.721925Z",
          "iopub.status.busy": "2024-04-09T03:24:22.721217Z",
          "iopub.status.idle": "2024-04-09T03:24:22.765346Z",
          "shell.execute_reply": "2024-04-09T03:24:22.763932Z",
          "shell.execute_reply.started": "2024-04-09T03:24:22.721891Z"
        },
        "trusted": true,
        "colab": {
          "base_uri": "https://localhost:8080/",
          "height": 206
        },
        "id": "aPDrkWiN6I7F",
        "outputId": "47444871-fef7-4944-b356-60c4030b9600"
      },
      "outputs": [
        {
          "output_type": "display_data",
          "data": {
            "text/plain": [
              "   snoring range  respiration rate  body temperature  limb movement  \\\n",
              "0          93.80            25.680            91.840         16.600   \n",
              "1          91.64            25.104            91.552         15.880   \n",
              "2          60.00            20.000            96.000         10.000   \n",
              "3          85.76            23.536            90.768         13.920   \n",
              "4          48.12            17.248            97.872          6.496   \n",
              "\n",
              "   blood oxygen   eye movement  hours of sleep  heart rate   Stress Levels  \n",
              "0         89.840         99.60           1.840        74.20              3  \n",
              "1         89.552         98.88           1.552        72.76              3  \n",
              "2         95.000         85.00           7.000        60.00              1  \n",
              "3         88.768         96.92           0.768        68.84              3  \n",
              "4         96.248         72.48           8.248        53.12              0  "
            ],
            "text/html": [
              "\n",
              "  <div id=\"df-a1b5df5c-0140-4f09-9e54-027bebfd5a55\" class=\"colab-df-container\">\n",
              "    <div>\n",
              "<style scoped>\n",
              "    .dataframe tbody tr th:only-of-type {\n",
              "        vertical-align: middle;\n",
              "    }\n",
              "\n",
              "    .dataframe tbody tr th {\n",
              "        vertical-align: top;\n",
              "    }\n",
              "\n",
              "    .dataframe thead th {\n",
              "        text-align: right;\n",
              "    }\n",
              "</style>\n",
              "<table border=\"1\" class=\"dataframe\">\n",
              "  <thead>\n",
              "    <tr style=\"text-align: right;\">\n",
              "      <th></th>\n",
              "      <th>snoring range</th>\n",
              "      <th>respiration rate</th>\n",
              "      <th>body temperature</th>\n",
              "      <th>limb movement</th>\n",
              "      <th>blood oxygen</th>\n",
              "      <th>eye movement</th>\n",
              "      <th>hours of sleep</th>\n",
              "      <th>heart rate</th>\n",
              "      <th>Stress Levels</th>\n",
              "    </tr>\n",
              "  </thead>\n",
              "  <tbody>\n",
              "    <tr>\n",
              "      <th>0</th>\n",
              "      <td>93.80</td>\n",
              "      <td>25.680</td>\n",
              "      <td>91.840</td>\n",
              "      <td>16.600</td>\n",
              "      <td>89.840</td>\n",
              "      <td>99.60</td>\n",
              "      <td>1.840</td>\n",
              "      <td>74.20</td>\n",
              "      <td>3</td>\n",
              "    </tr>\n",
              "    <tr>\n",
              "      <th>1</th>\n",
              "      <td>91.64</td>\n",
              "      <td>25.104</td>\n",
              "      <td>91.552</td>\n",
              "      <td>15.880</td>\n",
              "      <td>89.552</td>\n",
              "      <td>98.88</td>\n",
              "      <td>1.552</td>\n",
              "      <td>72.76</td>\n",
              "      <td>3</td>\n",
              "    </tr>\n",
              "    <tr>\n",
              "      <th>2</th>\n",
              "      <td>60.00</td>\n",
              "      <td>20.000</td>\n",
              "      <td>96.000</td>\n",
              "      <td>10.000</td>\n",
              "      <td>95.000</td>\n",
              "      <td>85.00</td>\n",
              "      <td>7.000</td>\n",
              "      <td>60.00</td>\n",
              "      <td>1</td>\n",
              "    </tr>\n",
              "    <tr>\n",
              "      <th>3</th>\n",
              "      <td>85.76</td>\n",
              "      <td>23.536</td>\n",
              "      <td>90.768</td>\n",
              "      <td>13.920</td>\n",
              "      <td>88.768</td>\n",
              "      <td>96.92</td>\n",
              "      <td>0.768</td>\n",
              "      <td>68.84</td>\n",
              "      <td>3</td>\n",
              "    </tr>\n",
              "    <tr>\n",
              "      <th>4</th>\n",
              "      <td>48.12</td>\n",
              "      <td>17.248</td>\n",
              "      <td>97.872</td>\n",
              "      <td>6.496</td>\n",
              "      <td>96.248</td>\n",
              "      <td>72.48</td>\n",
              "      <td>8.248</td>\n",
              "      <td>53.12</td>\n",
              "      <td>0</td>\n",
              "    </tr>\n",
              "  </tbody>\n",
              "</table>\n",
              "</div>\n",
              "    <div class=\"colab-df-buttons\">\n",
              "\n",
              "  <div class=\"colab-df-container\">\n",
              "    <button class=\"colab-df-convert\" onclick=\"convertToInteractive('df-a1b5df5c-0140-4f09-9e54-027bebfd5a55')\"\n",
              "            title=\"Convert this dataframe to an interactive table.\"\n",
              "            style=\"display:none;\">\n",
              "\n",
              "  <svg xmlns=\"http://www.w3.org/2000/svg\" height=\"24px\" viewBox=\"0 -960 960 960\">\n",
              "    <path d=\"M120-120v-720h720v720H120Zm60-500h600v-160H180v160Zm220 220h160v-160H400v160Zm0 220h160v-160H400v160ZM180-400h160v-160H180v160Zm440 0h160v-160H620v160ZM180-180h160v-160H180v160Zm440 0h160v-160H620v160Z\"/>\n",
              "  </svg>\n",
              "    </button>\n",
              "\n",
              "  <style>\n",
              "    .colab-df-container {\n",
              "      display:flex;\n",
              "      gap: 12px;\n",
              "    }\n",
              "\n",
              "    .colab-df-convert {\n",
              "      background-color: #E8F0FE;\n",
              "      border: none;\n",
              "      border-radius: 50%;\n",
              "      cursor: pointer;\n",
              "      display: none;\n",
              "      fill: #1967D2;\n",
              "      height: 32px;\n",
              "      padding: 0 0 0 0;\n",
              "      width: 32px;\n",
              "    }\n",
              "\n",
              "    .colab-df-convert:hover {\n",
              "      background-color: #E2EBFA;\n",
              "      box-shadow: 0px 1px 2px rgba(60, 64, 67, 0.3), 0px 1px 3px 1px rgba(60, 64, 67, 0.15);\n",
              "      fill: #174EA6;\n",
              "    }\n",
              "\n",
              "    .colab-df-buttons div {\n",
              "      margin-bottom: 4px;\n",
              "    }\n",
              "\n",
              "    [theme=dark] .colab-df-convert {\n",
              "      background-color: #3B4455;\n",
              "      fill: #D2E3FC;\n",
              "    }\n",
              "\n",
              "    [theme=dark] .colab-df-convert:hover {\n",
              "      background-color: #434B5C;\n",
              "      box-shadow: 0px 1px 3px 1px rgba(0, 0, 0, 0.15);\n",
              "      filter: drop-shadow(0px 1px 2px rgba(0, 0, 0, 0.3));\n",
              "      fill: #FFFFFF;\n",
              "    }\n",
              "  </style>\n",
              "\n",
              "    <script>\n",
              "      const buttonEl =\n",
              "        document.querySelector('#df-a1b5df5c-0140-4f09-9e54-027bebfd5a55 button.colab-df-convert');\n",
              "      buttonEl.style.display =\n",
              "        google.colab.kernel.accessAllowed ? 'block' : 'none';\n",
              "\n",
              "      async function convertToInteractive(key) {\n",
              "        const element = document.querySelector('#df-a1b5df5c-0140-4f09-9e54-027bebfd5a55');\n",
              "        const dataTable =\n",
              "          await google.colab.kernel.invokeFunction('convertToInteractive',\n",
              "                                                    [key], {});\n",
              "        if (!dataTable) return;\n",
              "\n",
              "        const docLinkHtml = 'Like what you see? Visit the ' +\n",
              "          '<a target=\"_blank\" href=https://colab.research.google.com/notebooks/data_table.ipynb>data table notebook</a>'\n",
              "          + ' to learn more about interactive tables.';\n",
              "        element.innerHTML = '';\n",
              "        dataTable['output_type'] = 'display_data';\n",
              "        await google.colab.output.renderOutput(dataTable, element);\n",
              "        const docLink = document.createElement('div');\n",
              "        docLink.innerHTML = docLinkHtml;\n",
              "        element.appendChild(docLink);\n",
              "      }\n",
              "    </script>\n",
              "  </div>\n",
              "\n",
              "\n",
              "    <div id=\"df-32cef0ac-0bfa-49e9-a433-d2c98a064b5e\">\n",
              "      <button class=\"colab-df-quickchart\" onclick=\"quickchart('df-32cef0ac-0bfa-49e9-a433-d2c98a064b5e')\"\n",
              "                title=\"Suggest charts\"\n",
              "                style=\"display:none;\">\n",
              "\n",
              "<svg xmlns=\"http://www.w3.org/2000/svg\" height=\"24px\"viewBox=\"0 0 24 24\"\n",
              "     width=\"24px\">\n",
              "    <g>\n",
              "        <path d=\"M19 3H5c-1.1 0-2 .9-2 2v14c0 1.1.9 2 2 2h14c1.1 0 2-.9 2-2V5c0-1.1-.9-2-2-2zM9 17H7v-7h2v7zm4 0h-2V7h2v10zm4 0h-2v-4h2v4z\"/>\n",
              "    </g>\n",
              "</svg>\n",
              "      </button>\n",
              "\n",
              "<style>\n",
              "  .colab-df-quickchart {\n",
              "      --bg-color: #E8F0FE;\n",
              "      --fill-color: #1967D2;\n",
              "      --hover-bg-color: #E2EBFA;\n",
              "      --hover-fill-color: #174EA6;\n",
              "      --disabled-fill-color: #AAA;\n",
              "      --disabled-bg-color: #DDD;\n",
              "  }\n",
              "\n",
              "  [theme=dark] .colab-df-quickchart {\n",
              "      --bg-color: #3B4455;\n",
              "      --fill-color: #D2E3FC;\n",
              "      --hover-bg-color: #434B5C;\n",
              "      --hover-fill-color: #FFFFFF;\n",
              "      --disabled-bg-color: #3B4455;\n",
              "      --disabled-fill-color: #666;\n",
              "  }\n",
              "\n",
              "  .colab-df-quickchart {\n",
              "    background-color: var(--bg-color);\n",
              "    border: none;\n",
              "    border-radius: 50%;\n",
              "    cursor: pointer;\n",
              "    display: none;\n",
              "    fill: var(--fill-color);\n",
              "    height: 32px;\n",
              "    padding: 0;\n",
              "    width: 32px;\n",
              "  }\n",
              "\n",
              "  .colab-df-quickchart:hover {\n",
              "    background-color: var(--hover-bg-color);\n",
              "    box-shadow: 0 1px 2px rgba(60, 64, 67, 0.3), 0 1px 3px 1px rgba(60, 64, 67, 0.15);\n",
              "    fill: var(--button-hover-fill-color);\n",
              "  }\n",
              "\n",
              "  .colab-df-quickchart-complete:disabled,\n",
              "  .colab-df-quickchart-complete:disabled:hover {\n",
              "    background-color: var(--disabled-bg-color);\n",
              "    fill: var(--disabled-fill-color);\n",
              "    box-shadow: none;\n",
              "  }\n",
              "\n",
              "  .colab-df-spinner {\n",
              "    border: 2px solid var(--fill-color);\n",
              "    border-color: transparent;\n",
              "    border-bottom-color: var(--fill-color);\n",
              "    animation:\n",
              "      spin 1s steps(1) infinite;\n",
              "  }\n",
              "\n",
              "  @keyframes spin {\n",
              "    0% {\n",
              "      border-color: transparent;\n",
              "      border-bottom-color: var(--fill-color);\n",
              "      border-left-color: var(--fill-color);\n",
              "    }\n",
              "    20% {\n",
              "      border-color: transparent;\n",
              "      border-left-color: var(--fill-color);\n",
              "      border-top-color: var(--fill-color);\n",
              "    }\n",
              "    30% {\n",
              "      border-color: transparent;\n",
              "      border-left-color: var(--fill-color);\n",
              "      border-top-color: var(--fill-color);\n",
              "      border-right-color: var(--fill-color);\n",
              "    }\n",
              "    40% {\n",
              "      border-color: transparent;\n",
              "      border-right-color: var(--fill-color);\n",
              "      border-top-color: var(--fill-color);\n",
              "    }\n",
              "    60% {\n",
              "      border-color: transparent;\n",
              "      border-right-color: var(--fill-color);\n",
              "    }\n",
              "    80% {\n",
              "      border-color: transparent;\n",
              "      border-right-color: var(--fill-color);\n",
              "      border-bottom-color: var(--fill-color);\n",
              "    }\n",
              "    90% {\n",
              "      border-color: transparent;\n",
              "      border-bottom-color: var(--fill-color);\n",
              "    }\n",
              "  }\n",
              "</style>\n",
              "\n",
              "      <script>\n",
              "        async function quickchart(key) {\n",
              "          const quickchartButtonEl =\n",
              "            document.querySelector('#' + key + ' button');\n",
              "          quickchartButtonEl.disabled = true;  // To prevent multiple clicks.\n",
              "          quickchartButtonEl.classList.add('colab-df-spinner');\n",
              "          try {\n",
              "            const charts = await google.colab.kernel.invokeFunction(\n",
              "                'suggestCharts', [key], {});\n",
              "          } catch (error) {\n",
              "            console.error('Error during call to suggestCharts:', error);\n",
              "          }\n",
              "          quickchartButtonEl.classList.remove('colab-df-spinner');\n",
              "          quickchartButtonEl.classList.add('colab-df-quickchart-complete');\n",
              "        }\n",
              "        (() => {\n",
              "          let quickchartButtonEl =\n",
              "            document.querySelector('#df-32cef0ac-0bfa-49e9-a433-d2c98a064b5e button');\n",
              "          quickchartButtonEl.style.display =\n",
              "            google.colab.kernel.accessAllowed ? 'block' : 'none';\n",
              "        })();\n",
              "      </script>\n",
              "    </div>\n",
              "\n",
              "    </div>\n",
              "  </div>\n"
            ],
            "application/vnd.google.colaboratory.intrinsic+json": {
              "type": "dataframe",
              "summary": "{\n  \"name\": \"display(data\",\n  \"rows\": 5,\n  \"fields\": [\n    {\n      \"column\": \"snoring range\",\n      \"properties\": {\n        \"dtype\": \"number\",\n        \"std\": 20.55425211483016,\n        \"min\": 48.12,\n        \"max\": 93.8,\n        \"num_unique_values\": 5,\n        \"samples\": [\n          91.64,\n          48.12,\n          60.0\n        ],\n        \"semantic_type\": \"\",\n        \"description\": \"\"\n      }\n    },\n    {\n      \"column\": \"respiration rate\",\n      \"properties\": {\n        \"dtype\": \"number\",\n        \"std\": 3.5925718921129466,\n        \"min\": 17.248,\n        \"max\": 25.68,\n        \"num_unique_values\": 5,\n        \"samples\": [\n          25.104,\n          17.248,\n          20.0\n        ],\n        \"semantic_type\": \"\",\n        \"description\": \"\"\n      }\n    },\n    {\n      \"column\": \"body temperature\",\n      \"properties\": {\n        \"dtype\": \"number\",\n        \"std\": 3.1353591181872593,\n        \"min\": 90.768,\n        \"max\": 97.872,\n        \"num_unique_values\": 5,\n        \"samples\": [\n          91.552,\n          97.872,\n          96.0\n        ],\n        \"semantic_type\": \"\",\n        \"description\": \"\"\n      }\n    },\n    {\n      \"column\": \"limb movement\",\n      \"properties\": {\n        \"dtype\": \"number\",\n        \"std\": 4.25785899249846,\n        \"min\": 6.496,\n        \"max\": 16.6,\n        \"num_unique_values\": 5,\n        \"samples\": [\n          15.88,\n          6.496,\n          10.0\n        ],\n        \"semantic_type\": \"\",\n        \"description\": \"\"\n      }\n    },\n    {\n      \"column\": \"blood oxygen \",\n      \"properties\": {\n        \"dtype\": \"number\",\n        \"std\": 3.4669705507834934,\n        \"min\": 88.768,\n        \"max\": 96.248,\n        \"num_unique_values\": 5,\n        \"samples\": [\n          89.552,\n          96.248,\n          95.0\n        ],\n        \"semantic_type\": \"\",\n        \"description\": \"\"\n      }\n    },\n    {\n      \"column\": \"eye movement\",\n      \"properties\": {\n        \"dtype\": \"number\",\n        \"std\": 11.717426338577935,\n        \"min\": 72.48,\n        \"max\": 99.6,\n        \"num_unique_values\": 5,\n        \"samples\": [\n          98.88,\n          72.48,\n          85.0\n        ],\n        \"semantic_type\": \"\",\n        \"description\": \"\"\n      }\n    },\n    {\n      \"column\": \"hours of sleep\",\n      \"properties\": {\n        \"dtype\": \"number\",\n        \"std\": 3.466970550783493,\n        \"min\": 0.768,\n        \"max\": 8.248,\n        \"num_unique_values\": 5,\n        \"samples\": [\n          1.552,\n          8.248,\n          7.0\n        ],\n        \"semantic_type\": \"\",\n        \"description\": \"\"\n      }\n    },\n    {\n      \"column\": \"heart rate \",\n      \"properties\": {\n        \"dtype\": \"number\",\n        \"std\": 8.98142973028237,\n        \"min\": 53.12,\n        \"max\": 74.2,\n        \"num_unique_values\": 5,\n        \"samples\": [\n          72.76,\n          53.12,\n          60.0\n        ],\n        \"semantic_type\": \"\",\n        \"description\": \"\"\n      }\n    },\n    {\n      \"column\": \"Stress Levels\",\n      \"properties\": {\n        \"dtype\": \"number\",\n        \"std\": 1,\n        \"min\": 0,\n        \"max\": 3,\n        \"num_unique_values\": 3,\n        \"samples\": [\n          3,\n          1,\n          0\n        ],\n        \"semantic_type\": \"\",\n        \"description\": \"\"\n      }\n    }\n  ]\n}"
            }
          },
          "metadata": {}
        }
      ],
      "source": [
        "#data = pd.read_csv(\"C:/Users/asus/OneDrive/Desktop/projectfinal2025/data_stress.csv\")\n",
        "#data\n",
        "# Load the downloaded CSV file into a pandas DataFrame\n",
        "data = pd.read_csv('data_stress.csv')\n",
        "\n",
        "# Display the first few rows of the DataFrame\n",
        "display(data.head())"
      ]
    },
    {
      "cell_type": "code",
      "source": [],
      "metadata": {
        "id": "mcONBQti7qpw"
      },
      "execution_count": null,
      "outputs": []
    },
    {
      "cell_type": "markdown",
      "metadata": {
        "id": "O1vta1PU6I7F"
      },
      "source": [
        "# **4. EDA**"
      ]
    },
    {
      "cell_type": "code",
      "execution_count": null,
      "metadata": {
        "execution": {
          "iopub.execute_input": "2024-04-09T03:24:42.679395Z",
          "iopub.status.busy": "2024-04-09T03:24:42.678924Z",
          "iopub.status.idle": "2024-04-09T03:24:42.813455Z",
          "shell.execute_reply": "2024-04-09T03:24:42.812542Z",
          "shell.execute_reply.started": "2024-04-09T03:24:42.679361Z"
        },
        "trusted": true,
        "colab": {
          "base_uri": "https://localhost:8080/",
          "height": 419
        },
        "id": "VfqTRp0l6I7G",
        "outputId": "119f0342-1f19-4cd7-b6a6-2a716070909b"
      },
      "outputs": [
        {
          "output_type": "display_data",
          "data": {
            "text/plain": [
              "╭──────────────────────────────────────────────── skimpy summary ─────────────────────────────────────────────────╮\n",
              "│ \u001b[3m         Data Summary         \u001b[0m \u001b[3m      Data Types       \u001b[0m                                                          │\n",
              "│ ┏━━━━━━━━━━━━━━━━━━━┳━━━━━━━━┓ ┏━━━━━━━━━━━━━┳━━━━━━━┓                                                          │\n",
              "│ ┃\u001b[1;36m \u001b[0m\u001b[1;36mDataframe        \u001b[0m\u001b[1;36m \u001b[0m┃\u001b[1;36m \u001b[0m\u001b[1;36mValues\u001b[0m\u001b[1;36m \u001b[0m┃ ┃\u001b[1;36m \u001b[0m\u001b[1;36mColumn Type\u001b[0m\u001b[1;36m \u001b[0m┃\u001b[1;36m \u001b[0m\u001b[1;36mCount\u001b[0m\u001b[1;36m \u001b[0m┃                                                          │\n",
              "│ ┡━━━━━━━━━━━━━━━━━━━╇━━━━━━━━┩ ┡━━━━━━━━━━━━━╇━━━━━━━┩                                                          │\n",
              "│ │ Number of rows    │ 630    │ │ float64     │ 8     │                                                          │\n",
              "│ │ Number of columns │ 9      │ │ int64       │ 1     │                                                          │\n",
              "│ └───────────────────┴────────┘ └─────────────┴───────┘                                                          │\n",
              "│ \u001b[3m                                                    number                                                    \u001b[0m  │\n",
              "│ ┏━━━━━━━━━━━━━━━━━━━┳━━━━━┳━━━━━━━━━━━━━━━━━━━━┳━━━━━━━┳━━━━━━━┳━━━━┳━━━━━━━┳━━━━━━━┳━━━━━━━┳━━━━━━━┳━━━━━━━━┓  │\n",
              "│ ┃\u001b[1m \u001b[0m\u001b[1mcolumn           \u001b[0m\u001b[1m \u001b[0m┃\u001b[1m \u001b[0m\u001b[1mNA \u001b[0m\u001b[1m \u001b[0m┃\u001b[1m \u001b[0m\u001b[1mNA %              \u001b[0m\u001b[1m \u001b[0m┃\u001b[1m \u001b[0m\u001b[1mmean \u001b[0m\u001b[1m \u001b[0m┃\u001b[1m \u001b[0m\u001b[1msd   \u001b[0m\u001b[1m \u001b[0m┃\u001b[1m \u001b[0m\u001b[1mp0\u001b[0m\u001b[1m \u001b[0m┃\u001b[1m \u001b[0m\u001b[1mp25  \u001b[0m\u001b[1m \u001b[0m┃\u001b[1m \u001b[0m\u001b[1mp50  \u001b[0m\u001b[1m \u001b[0m┃\u001b[1m \u001b[0m\u001b[1mp75  \u001b[0m\u001b[1m \u001b[0m┃\u001b[1m \u001b[0m\u001b[1mp100 \u001b[0m\u001b[1m \u001b[0m┃\u001b[1m \u001b[0m\u001b[1mhist  \u001b[0m\u001b[1m \u001b[0m┃  │\n",
              "│ ┡━━━━━━━━━━━━━━━━━━━╇━━━━━╇━━━━━━━━━━━━━━━━━━━━╇━━━━━━━╇━━━━━━━╇━━━━╇━━━━━━━╇━━━━━━━╇━━━━━━━╇━━━━━━━╇━━━━━━━━┩  │\n",
              "│ │ \u001b[38;5;141msnoring range    \u001b[0m │ \u001b[36m  0\u001b[0m │ \u001b[36m                 0\u001b[0m │ \u001b[36m 71.6\u001b[0m │ \u001b[36m19.37\u001b[0m │ \u001b[36m45\u001b[0m │ \u001b[36m 52.5\u001b[0m │ \u001b[36m   70\u001b[0m │ \u001b[36m91.25\u001b[0m │ \u001b[36m  100\u001b[0m │ \u001b[32m█▄▃▃▃▇\u001b[0m │  │\n",
              "│ │ \u001b[38;5;141mrespiration rate \u001b[0m │ \u001b[36m  0\u001b[0m │ \u001b[36m                 0\u001b[0m │ \u001b[36m21.92\u001b[0m │ \u001b[36m4.336\u001b[0m │ \u001b[36m16\u001b[0m │ \u001b[36m 18.5\u001b[0m │ \u001b[36m21.02\u001b[0m │ \u001b[36m25.06\u001b[0m │ \u001b[36m48.56\u001b[0m │ \u001b[32m █▄▂  \u001b[0m │  │\n",
              "│ │ \u001b[38;5;141mbody temperature \u001b[0m │ \u001b[36m 16\u001b[0m │ \u001b[36m2.5396825396825395\u001b[0m │ \u001b[36m93.47\u001b[0m │ \u001b[36m6.833\u001b[0m │ \u001b[36m85\u001b[0m │ \u001b[36m90.58\u001b[0m │ \u001b[36m93.08\u001b[0m │ \u001b[36m 95.6\u001b[0m │ \u001b[36m166.2\u001b[0m │ \u001b[32m  █   \u001b[0m │  │\n",
              "│ │ \u001b[38;5;141mlimb movement    \u001b[0m │ \u001b[36m 12\u001b[0m │ \u001b[36m1.9047619047619047\u001b[0m │ \u001b[36m11.95\u001b[0m │ \u001b[36m5.001\u001b[0m │ \u001b[36m 4\u001b[0m │ \u001b[36m8.516\u001b[0m │ \u001b[36m11.05\u001b[0m │ \u001b[36m15.95\u001b[0m │ \u001b[36m 46.8\u001b[0m │ \u001b[32m █▆▁  \u001b[0m │  │\n",
              "│ │ \u001b[38;5;141mblood oxygen     \u001b[0m │ \u001b[36m  4\u001b[0m │ \u001b[36m0.6349206349206349\u001b[0m │ \u001b[36m91.05\u001b[0m │ \u001b[36m4.892\u001b[0m │ \u001b[36m82\u001b[0m │ \u001b[36m88.48\u001b[0m │ \u001b[36m   91\u001b[0m │ \u001b[36m94.27\u001b[0m │ \u001b[36m154.3\u001b[0m │ \u001b[32m  █▃  \u001b[0m │  │\n",
              "│ │ \u001b[38;5;141meye movement     \u001b[0m │ \u001b[36m 18\u001b[0m │ \u001b[36m 2.857142857142857\u001b[0m │ \u001b[36m88.96\u001b[0m │ \u001b[36m13.48\u001b[0m │ \u001b[36m60\u001b[0m │ \u001b[36m81.23\u001b[0m │ \u001b[36m90.08\u001b[0m │ \u001b[36m98.89\u001b[0m │ \u001b[36m185.4\u001b[0m │ \u001b[32m ▃█▂  \u001b[0m │  │\n",
              "│ │ \u001b[38;5;141mhours of sleep   \u001b[0m │ \u001b[36m 11\u001b[0m │ \u001b[36m 1.746031746031746\u001b[0m │ \u001b[36m3.836\u001b[0m │ \u001b[36m3.341\u001b[0m │ \u001b[36m 0\u001b[0m │ \u001b[36m0.472\u001b[0m │ \u001b[36m3.608\u001b[0m │ \u001b[36m6.592\u001b[0m │ \u001b[36m20.22\u001b[0m │ \u001b[32m █▅▄  \u001b[0m │  │\n",
              "│ │ \u001b[38;5;141mheart rate       \u001b[0m │ \u001b[36m 24\u001b[0m │ \u001b[36m3.8095238095238093\u001b[0m │ \u001b[36m 64.9\u001b[0m │ \u001b[36m11.26\u001b[0m │ \u001b[36m50\u001b[0m │ \u001b[36m56.21\u001b[0m │ \u001b[36m62.54\u001b[0m │ \u001b[36m72.74\u001b[0m │ \u001b[36m158.7\u001b[0m │ \u001b[32m  █▄  \u001b[0m │  │\n",
              "│ │ \u001b[38;5;141mStress Levels    \u001b[0m │ \u001b[36m  0\u001b[0m │ \u001b[36m                 0\u001b[0m │ \u001b[36m    2\u001b[0m │ \u001b[36m1.415\u001b[0m │ \u001b[36m 0\u001b[0m │ \u001b[36m    1\u001b[0m │ \u001b[36m    2\u001b[0m │ \u001b[36m    3\u001b[0m │ \u001b[36m    4\u001b[0m │ \u001b[32m██ ███\u001b[0m │  │\n",
              "│ └───────────────────┴─────┴────────────────────┴───────┴───────┴────┴───────┴───────┴───────┴───────┴────────┘  │\n",
              "╰────────────────────────────────────────────────────── End ──────────────────────────────────────────────────────╯\n"
            ],
            "text/html": [
              "<pre style=\"white-space:pre;overflow-x:auto;line-height:normal;font-family:Menlo,'DejaVu Sans Mono',consolas,'Courier New',monospace\">╭──────────────────────────────────────────────── skimpy summary ─────────────────────────────────────────────────╮\n",
              "│ <span style=\"font-style: italic\">         Data Summary         </span> <span style=\"font-style: italic\">      Data Types       </span>                                                          │\n",
              "│ ┏━━━━━━━━━━━━━━━━━━━┳━━━━━━━━┓ ┏━━━━━━━━━━━━━┳━━━━━━━┓                                                          │\n",
              "│ ┃<span style=\"color: #008080; text-decoration-color: #008080; font-weight: bold\"> Dataframe         </span>┃<span style=\"color: #008080; text-decoration-color: #008080; font-weight: bold\"> Values </span>┃ ┃<span style=\"color: #008080; text-decoration-color: #008080; font-weight: bold\"> Column Type </span>┃<span style=\"color: #008080; text-decoration-color: #008080; font-weight: bold\"> Count </span>┃                                                          │\n",
              "│ ┡━━━━━━━━━━━━━━━━━━━╇━━━━━━━━┩ ┡━━━━━━━━━━━━━╇━━━━━━━┩                                                          │\n",
              "│ │ Number of rows    │ 630    │ │ float64     │ 8     │                                                          │\n",
              "│ │ Number of columns │ 9      │ │ int64       │ 1     │                                                          │\n",
              "│ └───────────────────┴────────┘ └─────────────┴───────┘                                                          │\n",
              "│ <span style=\"font-style: italic\">                                                    number                                                    </span>  │\n",
              "│ ┏━━━━━━━━━━━━━━━━━━━┳━━━━━┳━━━━━━━━━━━━━━━━━━━━┳━━━━━━━┳━━━━━━━┳━━━━┳━━━━━━━┳━━━━━━━┳━━━━━━━┳━━━━━━━┳━━━━━━━━┓  │\n",
              "│ ┃<span style=\"font-weight: bold\"> column            </span>┃<span style=\"font-weight: bold\"> NA  </span>┃<span style=\"font-weight: bold\"> NA %               </span>┃<span style=\"font-weight: bold\"> mean  </span>┃<span style=\"font-weight: bold\"> sd    </span>┃<span style=\"font-weight: bold\"> p0 </span>┃<span style=\"font-weight: bold\"> p25   </span>┃<span style=\"font-weight: bold\"> p50   </span>┃<span style=\"font-weight: bold\"> p75   </span>┃<span style=\"font-weight: bold\"> p100  </span>┃<span style=\"font-weight: bold\"> hist   </span>┃  │\n",
              "│ ┡━━━━━━━━━━━━━━━━━━━╇━━━━━╇━━━━━━━━━━━━━━━━━━━━╇━━━━━━━╇━━━━━━━╇━━━━╇━━━━━━━╇━━━━━━━╇━━━━━━━╇━━━━━━━╇━━━━━━━━┩  │\n",
              "│ │ <span style=\"color: #af87ff; text-decoration-color: #af87ff\">snoring range    </span> │ <span style=\"color: #008080; text-decoration-color: #008080\">  0</span> │ <span style=\"color: #008080; text-decoration-color: #008080\">                 0</span> │ <span style=\"color: #008080; text-decoration-color: #008080\"> 71.6</span> │ <span style=\"color: #008080; text-decoration-color: #008080\">19.37</span> │ <span style=\"color: #008080; text-decoration-color: #008080\">45</span> │ <span style=\"color: #008080; text-decoration-color: #008080\"> 52.5</span> │ <span style=\"color: #008080; text-decoration-color: #008080\">   70</span> │ <span style=\"color: #008080; text-decoration-color: #008080\">91.25</span> │ <span style=\"color: #008080; text-decoration-color: #008080\">  100</span> │ <span style=\"color: #008000; text-decoration-color: #008000\">█▄▃▃▃▇</span> │  │\n",
              "│ │ <span style=\"color: #af87ff; text-decoration-color: #af87ff\">respiration rate </span> │ <span style=\"color: #008080; text-decoration-color: #008080\">  0</span> │ <span style=\"color: #008080; text-decoration-color: #008080\">                 0</span> │ <span style=\"color: #008080; text-decoration-color: #008080\">21.92</span> │ <span style=\"color: #008080; text-decoration-color: #008080\">4.336</span> │ <span style=\"color: #008080; text-decoration-color: #008080\">16</span> │ <span style=\"color: #008080; text-decoration-color: #008080\"> 18.5</span> │ <span style=\"color: #008080; text-decoration-color: #008080\">21.02</span> │ <span style=\"color: #008080; text-decoration-color: #008080\">25.06</span> │ <span style=\"color: #008080; text-decoration-color: #008080\">48.56</span> │ <span style=\"color: #008000; text-decoration-color: #008000\"> █▄▂  </span> │  │\n",
              "│ │ <span style=\"color: #af87ff; text-decoration-color: #af87ff\">body temperature </span> │ <span style=\"color: #008080; text-decoration-color: #008080\"> 16</span> │ <span style=\"color: #008080; text-decoration-color: #008080\">2.5396825396825395</span> │ <span style=\"color: #008080; text-decoration-color: #008080\">93.47</span> │ <span style=\"color: #008080; text-decoration-color: #008080\">6.833</span> │ <span style=\"color: #008080; text-decoration-color: #008080\">85</span> │ <span style=\"color: #008080; text-decoration-color: #008080\">90.58</span> │ <span style=\"color: #008080; text-decoration-color: #008080\">93.08</span> │ <span style=\"color: #008080; text-decoration-color: #008080\"> 95.6</span> │ <span style=\"color: #008080; text-decoration-color: #008080\">166.2</span> │ <span style=\"color: #008000; text-decoration-color: #008000\">  █   </span> │  │\n",
              "│ │ <span style=\"color: #af87ff; text-decoration-color: #af87ff\">limb movement    </span> │ <span style=\"color: #008080; text-decoration-color: #008080\"> 12</span> │ <span style=\"color: #008080; text-decoration-color: #008080\">1.9047619047619047</span> │ <span style=\"color: #008080; text-decoration-color: #008080\">11.95</span> │ <span style=\"color: #008080; text-decoration-color: #008080\">5.001</span> │ <span style=\"color: #008080; text-decoration-color: #008080\"> 4</span> │ <span style=\"color: #008080; text-decoration-color: #008080\">8.516</span> │ <span style=\"color: #008080; text-decoration-color: #008080\">11.05</span> │ <span style=\"color: #008080; text-decoration-color: #008080\">15.95</span> │ <span style=\"color: #008080; text-decoration-color: #008080\"> 46.8</span> │ <span style=\"color: #008000; text-decoration-color: #008000\"> █▆▁  </span> │  │\n",
              "│ │ <span style=\"color: #af87ff; text-decoration-color: #af87ff\">blood oxygen     </span> │ <span style=\"color: #008080; text-decoration-color: #008080\">  4</span> │ <span style=\"color: #008080; text-decoration-color: #008080\">0.6349206349206349</span> │ <span style=\"color: #008080; text-decoration-color: #008080\">91.05</span> │ <span style=\"color: #008080; text-decoration-color: #008080\">4.892</span> │ <span style=\"color: #008080; text-decoration-color: #008080\">82</span> │ <span style=\"color: #008080; text-decoration-color: #008080\">88.48</span> │ <span style=\"color: #008080; text-decoration-color: #008080\">   91</span> │ <span style=\"color: #008080; text-decoration-color: #008080\">94.27</span> │ <span style=\"color: #008080; text-decoration-color: #008080\">154.3</span> │ <span style=\"color: #008000; text-decoration-color: #008000\">  █▃  </span> │  │\n",
              "│ │ <span style=\"color: #af87ff; text-decoration-color: #af87ff\">eye movement     </span> │ <span style=\"color: #008080; text-decoration-color: #008080\"> 18</span> │ <span style=\"color: #008080; text-decoration-color: #008080\"> 2.857142857142857</span> │ <span style=\"color: #008080; text-decoration-color: #008080\">88.96</span> │ <span style=\"color: #008080; text-decoration-color: #008080\">13.48</span> │ <span style=\"color: #008080; text-decoration-color: #008080\">60</span> │ <span style=\"color: #008080; text-decoration-color: #008080\">81.23</span> │ <span style=\"color: #008080; text-decoration-color: #008080\">90.08</span> │ <span style=\"color: #008080; text-decoration-color: #008080\">98.89</span> │ <span style=\"color: #008080; text-decoration-color: #008080\">185.4</span> │ <span style=\"color: #008000; text-decoration-color: #008000\"> ▃█▂  </span> │  │\n",
              "│ │ <span style=\"color: #af87ff; text-decoration-color: #af87ff\">hours of sleep   </span> │ <span style=\"color: #008080; text-decoration-color: #008080\"> 11</span> │ <span style=\"color: #008080; text-decoration-color: #008080\"> 1.746031746031746</span> │ <span style=\"color: #008080; text-decoration-color: #008080\">3.836</span> │ <span style=\"color: #008080; text-decoration-color: #008080\">3.341</span> │ <span style=\"color: #008080; text-decoration-color: #008080\"> 0</span> │ <span style=\"color: #008080; text-decoration-color: #008080\">0.472</span> │ <span style=\"color: #008080; text-decoration-color: #008080\">3.608</span> │ <span style=\"color: #008080; text-decoration-color: #008080\">6.592</span> │ <span style=\"color: #008080; text-decoration-color: #008080\">20.22</span> │ <span style=\"color: #008000; text-decoration-color: #008000\"> █▅▄  </span> │  │\n",
              "│ │ <span style=\"color: #af87ff; text-decoration-color: #af87ff\">heart rate       </span> │ <span style=\"color: #008080; text-decoration-color: #008080\"> 24</span> │ <span style=\"color: #008080; text-decoration-color: #008080\">3.8095238095238093</span> │ <span style=\"color: #008080; text-decoration-color: #008080\"> 64.9</span> │ <span style=\"color: #008080; text-decoration-color: #008080\">11.26</span> │ <span style=\"color: #008080; text-decoration-color: #008080\">50</span> │ <span style=\"color: #008080; text-decoration-color: #008080\">56.21</span> │ <span style=\"color: #008080; text-decoration-color: #008080\">62.54</span> │ <span style=\"color: #008080; text-decoration-color: #008080\">72.74</span> │ <span style=\"color: #008080; text-decoration-color: #008080\">158.7</span> │ <span style=\"color: #008000; text-decoration-color: #008000\">  █▄  </span> │  │\n",
              "│ │ <span style=\"color: #af87ff; text-decoration-color: #af87ff\">Stress Levels    </span> │ <span style=\"color: #008080; text-decoration-color: #008080\">  0</span> │ <span style=\"color: #008080; text-decoration-color: #008080\">                 0</span> │ <span style=\"color: #008080; text-decoration-color: #008080\">    2</span> │ <span style=\"color: #008080; text-decoration-color: #008080\">1.415</span> │ <span style=\"color: #008080; text-decoration-color: #008080\"> 0</span> │ <span style=\"color: #008080; text-decoration-color: #008080\">    1</span> │ <span style=\"color: #008080; text-decoration-color: #008080\">    2</span> │ <span style=\"color: #008080; text-decoration-color: #008080\">    3</span> │ <span style=\"color: #008080; text-decoration-color: #008080\">    4</span> │ <span style=\"color: #008000; text-decoration-color: #008000\">██ ███</span> │  │\n",
              "│ └───────────────────┴─────┴────────────────────┴───────┴───────┴────┴───────┴───────┴───────┴───────┴────────┘  │\n",
              "╰────────────────────────────────────────────────────── End ──────────────────────────────────────────────────────╯\n",
              "</pre>\n"
            ]
          },
          "metadata": {}
        }
      ],
      "source": [
        "skim(data)"
      ]
    },
    {
      "cell_type": "code",
      "execution_count": null,
      "metadata": {
        "execution": {
          "iopub.execute_input": "2024-04-09T03:27:54.833924Z",
          "iopub.status.busy": "2024-04-09T03:27:54.833507Z",
          "iopub.status.idle": "2024-04-09T03:27:54.844331Z",
          "shell.execute_reply": "2024-04-09T03:27:54.842978Z",
          "shell.execute_reply.started": "2024-04-09T03:27:54.833897Z"
        },
        "trusted": true,
        "colab": {
          "base_uri": "https://localhost:8080/"
        },
        "id": "oDU_YNrA6I7G",
        "outputId": "d9b07bb7-9ce7-4313-a6ae-1cb01cae9085"
      },
      "outputs": [
        {
          "output_type": "execute_result",
          "data": {
            "text/plain": [
              "Index(['snoring_range', 'respiration_rate', 'body_temperature',\n",
              "       'limb_movement', 'blood_oxygen', 'eye_movement', 'hours_of_sleep',\n",
              "       'heart_rate', 'Stress_Levels'],\n",
              "      dtype='object')"
            ]
          },
          "metadata": {},
          "execution_count": 7
        }
      ],
      "source": [
        "data.columns = data.columns.str.strip()\n",
        "data.columns = data.columns.str.replace(\" \", \"_\")\n",
        "data.columns"
      ]
    },
    {
      "cell_type": "code",
      "execution_count": null,
      "metadata": {
        "execution": {
          "iopub.execute_input": "2024-04-09T04:29:52.756854Z",
          "iopub.status.busy": "2024-04-09T04:29:52.756373Z",
          "iopub.status.idle": "2024-04-09T04:29:57.556780Z",
          "shell.execute_reply": "2024-04-09T04:29:57.555514Z",
          "shell.execute_reply.started": "2024-04-09T04:29:52.756821Z"
        },
        "trusted": true,
        "colab": {
          "base_uri": "https://localhost:8080/",
          "height": 1000
        },
        "id": "Ftva5rMO6I7H",
        "outputId": "db810d3a-816a-4908-f5f3-7fcbb548cfe7"
      },
      "outputs": [
        {
          "output_type": "display_data",
          "data": {
            "text/plain": [
              "<Figure size 800x1000 with 8 Axes>"
            ],
            "image/png": "[encoded data removed]"
          },
          "metadata": {}
        }
      ],
      "source": [
        "sns.set_style(\"darkgrid\")\n",
        "numerical_features = data.columns[:-1]\n",
        "colors = sns.color_palette(n_colors = len(numerical_features), palette = 'dark')\n",
        "\n",
        "fig,axs = plt.subplots(nrows = 4, ncols = 2, figsize = (8, 10))\n",
        "axs = axs.flat\n",
        "\n",
        "for i,feature in enumerate(numerical_features):\n",
        "    sns.histplot(data = data, x = feature, stat = 'density', ax = axs[i], color = colors[i])\n",
        "    sns.kdeplot(data = data, x = feature, ax = axs[i], color = colors[i])\n",
        "    axs[i].set_title(f'{feature}', fontsize = 10, fontweight = 'bold')\n",
        "    axs[i].set_xlabel(\"\")\n",
        "fig.suptitle(\"Distribution of Numerical variables\", fontsize = 14, fontweight = 'bold', color = 'darkred')\n",
        "fig.tight_layout()\n",
        "fig.show()"
      ]
    },
    {
      "cell_type": "markdown",
      "metadata": {
        "id": "oRj0aNzr6I7O"
      },
      "source": [
        "# **5. Data preprocessing**"
      ]
    },
    {
      "cell_type": "code",
      "execution_count": null,
      "metadata": {
        "execution": {
          "iopub.execute_input": "2024-04-09T04:03:49.518580Z",
          "iopub.status.busy": "2024-04-09T04:03:49.518161Z",
          "iopub.status.idle": "2024-04-09T04:03:49.530862Z",
          "shell.execute_reply": "2024-04-09T04:03:49.529439Z",
          "shell.execute_reply.started": "2024-04-09T04:03:49.518549Z"
        },
        "trusted": true,
        "colab": {
          "base_uri": "https://localhost:8080/"
        },
        "id": "VxR-QOk26I7O",
        "outputId": "b5840752-1222-4eb5-ec12-ab875a249c3a"
      },
      "outputs": [
        {
          "output_type": "stream",
          "name": "stdout",
          "text": [
            "\n",
            "Missing values after imputation:\n",
            "snoring_range       0\n",
            "respiration_rate    0\n",
            "body_temperature    0\n",
            "limb_movement       0\n",
            "blood_oxygen        0\n",
            "eye_movement        0\n",
            "hours_of_sleep      0\n",
            "heart_rate          0\n",
            "Stress_Levels       0\n",
            "dtype: int64\n",
            "\n",
            "Data after capping outliers:\n",
            "       snoring_range  respiration_rate  body_temperature  limb_movement  \\\n",
            "count     630.000000        630.000000        630.000000     630.000000   \n",
            "mean       71.600000         21.916314         93.293093      11.945188   \n",
            "std        19.372833          4.336242          5.312777       4.953314   \n",
            "min        45.000000         16.000000         85.000000       4.000000   \n",
            "25%        52.500000         18.500000         90.660000       8.564000   \n",
            "50%        70.000000         21.016000         93.208000      11.144000   \n",
            "75%        91.250000         25.064000         95.532000      15.830000   \n",
            "max       100.000000         48.560000        129.163400      46.800000   \n",
            "\n",
            "       blood_oxygen  eye_movement  hours_of_sleep  heart_rate  Stress_Levels  \n",
            "count    630.000000    630.000000      630.000000  630.000000     630.000000  \n",
            "mean      90.906221     88.585782        3.835742   64.625142       2.000000  \n",
            "std        3.905877     11.831704        3.311971    9.819749       1.415337  \n",
            "min       82.000000     60.000000        0.000000   50.000000       0.000000  \n",
            "25%       88.500000     81.410000        0.516000   56.450000       1.000000  \n",
            "50%       91.032000     89.360000        3.764000   63.020000       2.000000  \n",
            "75%       94.250000     98.710000        6.548000   72.260000       3.000000  \n",
            "max       96.931360    104.908400       20.220000   84.816800       4.000000  \n",
            "\n",
            "Features after scaling:\n",
            "   snoring_range  respiration_rate  body_temperature  limb_movement  \\\n",
            "0       1.146845          0.868650         -0.273726       0.940484   \n",
            "1       1.035260          0.735710         -0.327979       0.795011   \n",
            "2      -0.599252         -0.442281          0.509914      -0.393016   \n",
            "3       0.731501          0.373820         -0.475665       0.399002   \n",
            "4      -1.212970         -1.077436          0.862552      -1.100984   \n",
            "\n",
            "   blood_oxygen  eye_movement  hours_of_sleep  heart_rate  \n",
            "0     -0.273196      0.931647       -0.603063    0.975836  \n",
            "1     -0.346989      0.870745       -0.690089    0.829076  \n",
            "2      1.048940     -0.303306        0.956160   -0.471378  \n",
            "3     -0.547872      0.704957       -0.926995    0.429564  \n",
            "4      1.368713     -1.362321        1.333274   -1.172564  \n",
            "\n",
            "Shape of training and testing data:\n",
            "X_train shape: (504, 8)\n",
            "X_test shape: (126, 8)\n",
            "y_train shape: (504,)\n",
            "y_test shape: (126,)\n"
          ]
        }
      ],
      "source": [
        "# Handle missing values by filling numerical missing values with the mean\n",
        "for col in data.columns:\n",
        "    if data[col].dtype in ['float64', 'int64']:\n",
        "        data[col] = data[col].fillna(data[col].mean())\n",
        "\n",
        "print(\"\\nMissing values after imputation:\")\n",
        "print(data.isnull().sum())\n",
        "\n",
        "# Handle outliers by capping using the 99th percentile\n",
        "for col in ['body_temperature', 'blood_oxygen', 'eye_movement', 'heart_rate']:\n",
        "    upper_limit = data[col].quantile(0.99)\n",
        "    data[col] = data[col].clip(upper=upper_limit)\n",
        "\n",
        "print(\"\\nData after capping outliers:\")\n",
        "print(data.describe())\n",
        "\n",
        "# Separate features (X) and target (y)\n",
        "X = data.drop('Stress_Levels', axis=1)\n",
        "y = data['Stress_Levels']\n",
        "\n",
        "# Feature Scaling using StandardScaler\n",
        "scaler = StandardScaler()\n",
        "X_scaled = scaler.fit_transform(X)\n",
        "\n",
        "X_scaled_df = pd.DataFrame(X_scaled, columns=X.columns)\n",
        "\n",
        "print(\"\\nFeatures after scaling:\")\n",
        "print(X_scaled_df.head())\n",
        "\n",
        "# Split the data into training and testing sets\n",
        "X_train, X_test, y_train, y_test = train_test_split(X_scaled_df, y, test_size=0.2, random_state=42)\n",
        "\n",
        "print(\"\\nShape of training and testing data:\")\n",
        "print(f\"X_train shape: {X_train.shape}\")\n",
        "print(f\"X_test shape: {X_test.shape}\")\n",
        "print(f\"y_train shape: {y_train.shape}\")\n",
        "print(f\"y_test shape: {y_test.shape}\")"
      ]
    },
    {
      "cell_type": "markdown",
      "metadata": {
        "id": "1BB82tCp6I7P"
      },
      "source": [
        "# **6. Models**"
      ]
    },
    {
      "cell_type": "code",
      "execution_count": null,
      "metadata": {
        "execution": {
          "iopub.execute_input": "2024-04-09T04:03:51.991553Z",
          "iopub.status.busy": "2024-04-09T04:03:51.991096Z",
          "iopub.status.idle": "2024-04-09T04:03:51.998808Z",
          "shell.execute_reply": "2024-04-09T04:03:51.997296Z",
          "shell.execute_reply.started": "2024-04-09T04:03:51.991521Z"
        },
        "trusted": true,
        "id": "KtndX-AU6I7P"
      },
      "outputs": [],
      "source": [
        "xgb = XGBClassifier(random_state=42)\n",
        "lgbm = LGBMClassifier(random_state=42)\n",
        "cb = CatBoostClassifier(random_state=42, verbose=0)\n",
        "\n",
        "MODELS = [xgb, lgbm, cb]"
      ]
    },
    {
      "cell_type": "code",
      "execution_count": null,
      "metadata": {
        "execution": {
          "iopub.execute_input": "2024-04-09T04:09:03.406737Z",
          "iopub.status.busy": "2024-04-09T04:09:03.406206Z",
          "iopub.status.idle": "2024-04-09T04:09:08.929596Z",
          "shell.execute_reply": "2024-04-09T04:09:08.928294Z",
          "shell.execute_reply.started": "2024-04-09T04:09:03.406700Z"
        },
        "trusted": true,
        "colab": {
          "base_uri": "https://localhost:8080/"
        },
        "id": "y0MsCkbD6I7Q",
        "outputId": "85e375c7-291d-4f18-89df-5d8db773cd6a"
      },
      "outputs": [
        {
          "output_type": "stream",
          "name": "stdout",
          "text": [
            "\n",
            "Training XGBClassifier...\n",
            "XGBClassifier training complete.\n",
            "\n",
            "Training LGBMClassifier...\n",
            "[LightGBM] [Info] Auto-choosing col-wise multi-threading, the overhead of testing was 0.000068 seconds.\n",
            "You can set `force_col_wise=true` to remove the overhead.\n",
            "[LightGBM] [Info] Total Bins 1344\n",
            "[LightGBM] [Info] Number of data points in the train set: 504, number of used features: 8\n",
            "[LightGBM] [Info] Start training from score -1.587847\n",
            "[LightGBM] [Info] Start training from score -1.597603\n",
            "[LightGBM] [Info] Start training from score -1.637609\n",
            "[LightGBM] [Info] Start training from score -1.617406\n",
            "[LightGBM] [Info] Start training from score -1.607456\n",
            "[LightGBM] [Warning] No further splits with positive gain, best gain: -inf\n",
            "[LightGBM] [Warning] No further splits with positive gain, best gain: -inf\n",
            "[LightGBM] [Warning] No further splits with positive gain, best gain: -inf\n",
            "[LightGBM] [Warning] No further splits with positive gain, best gain: -inf\n",
            "[LightGBM] [Warning] No further splits with positive gain, best gain: -inf\n",
            "[LightGBM] [Warning] No further splits with positive gain, best gain: -inf\n",
            "[LightGBM] [Warning] No further splits with positive gain, best gain: -inf\n",
            "[LightGBM] [Warning] No further splits with positive gain, best gain: -inf\n",
            "[LightGBM] [Warning] No further splits with positive gain, best gain: -inf\n",
            "[LightGBM] [Warning] No further splits with positive gain, best gain: -inf\n",
            "[LightGBM] [Warning] No further splits with positive gain, best gain: -inf\n",
            "[LightGBM] [Warning] No further splits with positive gain, best gain: -inf\n",
            "[LightGBM] [Warning] No further splits with positive gain, best gain: -inf\n",
            "[LightGBM] [Warning] No further splits with positive gain, best gain: -inf\n",
            "[LightGBM] [Warning] No further splits with positive gain, best gain: -inf\n",
            "[LightGBM] [Warning] No further splits with positive gain, best gain: -inf\n",
            "[LightGBM] [Warning] No further splits with positive gain, best gain: -inf\n",
            "[LightGBM] [Warning] No further splits with positive gain, best gain: -inf\n",
            "[LightGBM] [Warning] No further splits with positive gain, best gain: -inf\n",
            "[LightGBM] [Warning] No further splits with positive gain, best gain: -inf\n",
            "[LightGBM] [Warning] No further splits with positive gain, best gain: -inf\n",
            "[LightGBM] [Warning] No further splits with positive gain, best gain: -inf\n",
            "[LightGBM] [Warning] No further splits with positive gain, best gain: -inf\n",
            "[LightGBM] [Warning] No further splits with positive gain, best gain: -inf\n",
            "[LightGBM] [Warning] No further splits with positive gain, best gain: -inf\n",
            "[LightGBM] [Warning] No further splits with positive gain, best gain: -inf\n",
            "[LightGBM] [Warning] No further splits with positive gain, best gain: -inf\n",
            "[LightGBM] [Warning] No further splits with positive gain, best gain: -inf\n",
            "[LightGBM] [Warning] No further splits with positive gain, best gain: -inf\n",
            "[LightGBM] [Warning] No further splits with positive gain, best gain: -inf\n",
            "[LightGBM] [Warning] No further splits with positive gain, best gain: -inf\n",
            "[LightGBM] [Warning] No further splits with positive gain, best gain: -inf\n",
            "[LightGBM] [Warning] No further splits with positive gain, best gain: -inf\n",
            "[LightGBM] [Warning] No further splits with positive gain, best gain: -inf\n",
            "[LightGBM] [Warning] No further splits with positive gain, best gain: -inf\n",
            "[LightGBM] [Warning] No further splits with positive gain, best gain: -inf\n",
            "[LightGBM] [Warning] No further splits with positive gain, best gain: -inf\n",
            "[LightGBM] [Warning] No further splits with positive gain, best gain: -inf\n",
            "[LightGBM] [Warning] No further splits with positive gain, best gain: -inf\n",
            "[LightGBM] [Warning] No further splits with positive gain, best gain: -inf\n",
            "[LightGBM] [Warning] No further splits with positive gain, best gain: -inf\n",
            "[LightGBM] [Warning] No further splits with positive gain, best gain: -inf\n",
            "[LightGBM] [Warning] No further splits with positive gain, best gain: -inf\n",
            "[LightGBM] [Warning] No further splits with positive gain, best gain: -inf\n",
            "[LightGBM] [Warning] No further splits with positive gain, best gain: -inf\n",
            "[LightGBM] [Warning] No further splits with positive gain, best gain: -inf\n",
            "[LightGBM] [Warning] No further splits with positive gain, best gain: -inf\n",
            "[LightGBM] [Warning] No further splits with positive gain, best gain: -inf\n",
            "[LightGBM] [Warning] No further splits with positive gain, best gain: -inf\n",
            "[LightGBM] [Warning] No further splits with positive gain, best gain: -inf\n",
            "[10]\tvalid_0's multi_logloss: 0.280428\n",
            "[LightGBM] [Warning] No further splits with positive gain, best gain: -inf\n",
            "[LightGBM] [Warning] No further splits with positive gain, best gain: -inf\n",
            "[LightGBM] [Warning] No further splits with positive gain, best gain: -inf\n",
            "[LightGBM] [Warning] No further splits with positive gain, best gain: -inf\n",
            "[LightGBM] [Warning] No further splits with positive gain, best gain: -inf\n",
            "[LightGBM] [Warning] No further splits with positive gain, best gain: -inf\n",
            "[LightGBM] [Warning] No further splits with positive gain, best gain: -inf\n",
            "[LightGBM] [Warning] No further splits with positive gain, best gain: -inf\n",
            "[LightGBM] [Warning] No further splits with positive gain, best gain: -inf\n",
            "[LightGBM] [Warning] No further splits with positive gain, best gain: -inf\n",
            "[LightGBM] [Warning] No further splits with positive gain, best gain: -inf\n",
            "[LightGBM] [Warning] No further splits with positive gain, best gain: -inf\n",
            "[LightGBM] [Warning] No further splits with positive gain, best gain: -inf\n",
            "[LightGBM] [Warning] No further splits with positive gain, best gain: -inf\n",
            "[LightGBM] [Warning] No further splits with positive gain, best gain: -inf\n",
            "[LightGBM] [Warning] No further splits with positive gain, best gain: -inf\n",
            "[LightGBM] [Warning] No further splits with positive gain, best gain: -inf\n",
            "[LightGBM] [Warning] No further splits with positive gain, best gain: -inf\n",
            "[LightGBM] [Warning] No further splits with positive gain, best gain: -inf\n",
            "[LightGBM] [Warning] No further splits with positive gain, best gain: -inf\n",
            "[LightGBM] [Warning] No further splits with positive gain, best gain: -inf\n",
            "[LightGBM] [Warning] No further splits with positive gain, best gain: -inf\n",
            "[LightGBM] [Warning] No further splits with positive gain, best gain: -inf\n",
            "[LightGBM] [Warning] No further splits with positive gain, best gain: -inf\n",
            "[LightGBM] [Warning] No further splits with positive gain, best gain: -inf\n",
            "[LightGBM] [Warning] No further splits with positive gain, best gain: -inf\n",
            "[LightGBM] [Warning] No further splits with positive gain, best gain: -inf\n",
            "[LightGBM] [Warning] No further splits with positive gain, best gain: -inf\n",
            "[LightGBM] [Warning] No further splits with positive gain, best gain: -inf\n",
            "[LightGBM] [Warning] No further splits with positive gain, best gain: -inf\n",
            "[LightGBM] [Warning] No further splits with positive gain, best gain: -inf\n",
            "[LightGBM] [Warning] No further splits with positive gain, best gain: -inf\n",
            "[LightGBM] [Warning] No further splits with positive gain, best gain: -inf\n",
            "[LightGBM] [Warning] No further splits with positive gain, best gain: -inf\n",
            "[LightGBM] [Warning] No further splits with positive gain, best gain: -inf\n",
            "[LightGBM] [Warning] No further splits with positive gain, best gain: -inf\n",
            "[LightGBM] [Warning] No further splits with positive gain, best gain: -inf\n",
            "[LightGBM] [Warning] No further splits with positive gain, best gain: -inf\n",
            "[LightGBM] [Warning] No further splits with positive gain, best gain: -inf\n",
            "[LightGBM] [Warning] No further splits with positive gain, best gain: -inf\n",
            "[LightGBM] [Warning] No further splits with positive gain, best gain: -inf\n",
            "[LightGBM] [Warning] No further splits with positive gain, best gain: -inf\n",
            "[LightGBM] [Warning] No further splits with positive gain, best gain: -inf\n",
            "[LightGBM] [Warning] No further splits with positive gain, best gain: -inf\n",
            "[LightGBM] [Warning] No further splits with positive gain, best gain: -inf\n",
            "[LightGBM] [Warning] No further splits with positive gain, best gain: -inf\n",
            "[LightGBM] [Warning] No further splits with positive gain, best gain: -inf\n",
            "[LightGBM] [Warning] No further splits with positive gain, best gain: -inf\n",
            "[LightGBM] [Warning] No further splits with positive gain, best gain: -inf\n",
            "[LightGBM] [Warning] No further splits with positive gain, best gain: -inf\n",
            "[20]\tvalid_0's multi_logloss: 0.119312\n",
            "[LightGBM] [Warning] No further splits with positive gain, best gain: -inf\n",
            "[LightGBM] [Warning] No further splits with positive gain, best gain: -inf\n",
            "[LightGBM] [Warning] No further splits with positive gain, best gain: -inf\n",
            "[LightGBM] [Warning] No further splits with positive gain, best gain: -inf\n",
            "[LightGBM] [Warning] No further splits with positive gain, best gain: -inf\n",
            "[LightGBM] [Warning] No further splits with positive gain, best gain: -inf\n",
            "[LightGBM] [Warning] No further splits with positive gain, best gain: -inf\n",
            "[LightGBM] [Warning] No further splits with positive gain, best gain: -inf\n",
            "[LightGBM] [Warning] No further splits with positive gain, best gain: -inf\n",
            "[LightGBM] [Warning] No further splits with positive gain, best gain: -inf\n",
            "[LightGBM] [Warning] No further splits with positive gain, best gain: -inf\n",
            "[LightGBM] [Warning] No further splits with positive gain, best gain: -inf\n",
            "[LightGBM] [Warning] No further splits with positive gain, best gain: -inf\n",
            "[LightGBM] [Warning] No further splits with positive gain, best gain: -inf\n",
            "[LightGBM] [Warning] No further splits with positive gain, best gain: -inf\n",
            "[LightGBM] [Warning] No further splits with positive gain, best gain: -inf\n",
            "[LightGBM] [Warning] No further splits with positive gain, best gain: -inf\n",
            "[LightGBM] [Warning] No further splits with positive gain, best gain: -inf\n",
            "[LightGBM] [Warning] No further splits with positive gain, best gain: -inf\n",
            "[LightGBM] [Warning] No further splits with positive gain, best gain: -inf\n",
            "[LightGBM] [Warning] No further splits with positive gain, best gain: -inf\n",
            "[LightGBM] [Warning] No further splits with positive gain, best gain: -inf\n",
            "[LightGBM] [Warning] No further splits with positive gain, best gain: -inf\n",
            "[LightGBM] [Warning] No further splits with positive gain, best gain: -inf\n",
            "[LightGBM] [Warning] No further splits with positive gain, best gain: -inf\n",
            "[LightGBM] [Warning] No further splits with positive gain, best gain: -inf\n",
            "[LightGBM] [Warning] No further splits with positive gain, best gain: -inf\n",
            "[LightGBM] [Warning] No further splits with positive gain, best gain: -inf\n",
            "[LightGBM] [Warning] No further splits with positive gain, best gain: -inf\n",
            "[LightGBM] [Warning] No further splits with positive gain, best gain: -inf\n",
            "[LightGBM] [Warning] No further splits with positive gain, best gain: -inf\n",
            "[LightGBM] [Warning] No further splits with positive gain, best gain: -inf\n",
            "[LightGBM] [Warning] No further splits with positive gain, best gain: -inf\n",
            "[LightGBM] [Warning] No further splits with positive gain, best gain: -inf\n",
            "[LightGBM] [Warning] No further splits with positive gain, best gain: -inf\n",
            "[LightGBM] [Warning] No further splits with positive gain, best gain: -inf\n",
            "[LightGBM] [Warning] No further splits with positive gain, best gain: -inf\n",
            "[LightGBM] [Warning] No further splits with positive gain, best gain: -inf\n",
            "[LightGBM] [Warning] No further splits with positive gain, best gain: -inf\n",
            "[LightGBM] [Warning] No further splits with positive gain, best gain: -inf\n",
            "[LightGBM] [Warning] No further splits with positive gain, best gain: -inf\n",
            "[LightGBM] [Warning] No further splits with positive gain, best gain: -inf\n",
            "[LightGBM] [Warning] No further splits with positive gain, best gain: -inf\n",
            "[LightGBM] [Warning] No further splits with positive gain, best gain: -inf\n",
            "[LightGBM] [Warning] No further splits with positive gain, best gain: -inf\n",
            "[LightGBM] [Warning] No further splits with positive gain, best gain: -inf\n",
            "[LightGBM] [Warning] No further splits with positive gain, best gain: -inf\n",
            "[LightGBM] [Warning] No further splits with positive gain, best gain: -inf\n",
            "[LightGBM] [Warning] No further splits with positive gain, best gain: -inf\n",
            "[LightGBM] [Warning] No further splits with positive gain, best gain: -inf\n",
            "[30]\tvalid_0's multi_logloss: 0.106981\n",
            "[LightGBM] [Warning] No further splits with positive gain, best gain: -inf\n",
            "[LightGBM] [Warning] No further splits with positive gain, best gain: -inf\n",
            "[LightGBM] [Warning] No further splits with positive gain, best gain: -inf\n",
            "[LightGBM] [Warning] No further splits with positive gain, best gain: -inf\n",
            "[LightGBM] [Warning] No further splits with positive gain, best gain: -inf\n",
            "[LightGBM] [Warning] No further splits with positive gain, best gain: -inf\n",
            "[LightGBM] [Warning] No further splits with positive gain, best gain: -inf\n",
            "[LightGBM] [Warning] No further splits with positive gain, best gain: -inf\n",
            "[LightGBM] [Warning] No further splits with positive gain, best gain: -inf\n",
            "[LightGBM] [Warning] No further splits with positive gain, best gain: -inf\n",
            "[LightGBM] [Warning] No further splits with positive gain, best gain: -inf\n",
            "[LightGBM] [Warning] No further splits with positive gain, best gain: -inf\n",
            "[LightGBM] [Warning] No further splits with positive gain, best gain: -inf\n",
            "[LightGBM] [Warning] No further splits with positive gain, best gain: -inf\n",
            "[LightGBM] [Warning] No further splits with positive gain, best gain: -inf\n",
            "[LightGBM] [Warning] No further splits with positive gain, best gain: -inf\n",
            "[LightGBM] [Warning] No further splits with positive gain, best gain: -inf\n",
            "[LightGBM] [Warning] No further splits with positive gain, best gain: -inf\n",
            "[LightGBM] [Warning] No further splits with positive gain, best gain: -inf\n",
            "[LightGBM] [Warning] No further splits with positive gain, best gain: -inf\n",
            "[LightGBM] [Warning] No further splits with positive gain, best gain: -inf\n",
            "[LightGBM] [Warning] No further splits with positive gain, best gain: -inf\n",
            "[LightGBM] [Warning] No further splits with positive gain, best gain: -inf\n",
            "[LightGBM] [Warning] No further splits with positive gain, best gain: -inf\n",
            "[LightGBM] [Warning] No further splits with positive gain, best gain: -inf\n",
            "[LightGBM] [Warning] No further splits with positive gain, best gain: -inf\n",
            "[LightGBM] [Warning] No further splits with positive gain, best gain: -inf\n",
            "[LightGBM] [Warning] No further splits with positive gain, best gain: -inf\n",
            "[LightGBM] [Warning] No further splits with positive gain, best gain: -inf\n",
            "[LightGBM] [Warning] No further splits with positive gain, best gain: -inf\n",
            "[LightGBM] [Warning] No further splits with positive gain, best gain: -inf\n",
            "[LightGBM] [Warning] No further splits with positive gain, best gain: -inf\n",
            "[LightGBM] [Warning] No further splits with positive gain, best gain: -inf\n",
            "[LightGBM] [Warning] No further splits with positive gain, best gain: -inf\n",
            "[LightGBM] [Warning] No further splits with positive gain, best gain: -inf\n",
            "LGBMClassifier training complete.\n",
            "\n",
            "Training CatBoostClassifier...\n",
            "CatBoostClassifier training complete.\n"
          ]
        }
      ],
      "source": [
        "from lightgbm import early_stopping\n",
        "from lightgbm import log_evaluation\n",
        "\n",
        "for model in MODELS:\n",
        "    model_name = type(model).__name__\n",
        "    print(f\"\\nTraining {model_name}...\")\n",
        "    if model_name == 'LGBMClassifier':\n",
        "      model.fit(X_train, y_train,\n",
        "                eval_set=[(X_test, y_test)],\n",
        "                callbacks=[early_stopping(10, verbose=False), log_evaluation(period=10)])\n",
        "    else:\n",
        "      model.fit(X_train, y_train)\n",
        "    print(f\"{model_name} training complete.\")"
      ]
    },
    {
      "cell_type": "markdown",
      "metadata": {
        "id": "9uWZsf4M6I7Q"
      },
      "source": [
        "The winning model was CatBoostClassifier, so on this model we will calculate the confusion matrices."
      ]
    },
    {
      "cell_type": "markdown",
      "metadata": {
        "id": "nL-jRXF56I7R"
      },
      "source": [
        "# **7. Model Evaluation**"
      ]
    },
    {
      "cell_type": "code",
      "execution_count": null,
      "metadata": {
        "execution": {
          "iopub.execute_input": "2024-04-09T04:38:38.004599Z",
          "iopub.status.busy": "2024-04-09T04:38:38.003780Z",
          "iopub.status.idle": "2024-04-09T04:38:44.051208Z",
          "shell.execute_reply": "2024-04-09T04:38:44.050215Z",
          "shell.execute_reply.started": "2024-04-09T04:38:38.004562Z"
        },
        "trusted": true,
        "id": "koStToWO6I7R",
        "colab": {
          "base_uri": "https://localhost:8080/",
          "height": 963
        },
        "outputId": "3356ef21-5c91-4355-b934-7a6ba0dbe48a"
      },
      "outputs": [
        {
          "output_type": "stream",
          "name": "stdout",
          "text": [
            "\n",
            "Evaluating LGBMClassifier...\n",
            "Metrics for LGBMClassifier:\n",
            "  Accuracy: 0.9841\n",
            "  Precision: 0.9847\n",
            "  Recall: 0.9841\n",
            "  F1 Score: 0.9839\n",
            "\n",
            "  Confusion Matrix:\n"
          ]
        },
        {
          "output_type": "display_data",
          "data": {
            "text/plain": [
              "<Figure size 800x600 with 2 Axes>"
            ],
            "image/png": "[encoded data removed]"
          },
          "metadata": {}
        },
        {
          "output_type": "stream",
          "name": "stdout",
          "text": [
            "\n",
            "  Classification Report:\n",
            "              precision    recall  f1-score   support\n",
            "\n",
            "           0       0.96      1.00      0.98        23\n",
            "           1       1.00      0.92      0.96        24\n",
            "           2       0.97      1.00      0.98        28\n",
            "           3       1.00      1.00      1.00        26\n",
            "           4       1.00      1.00      1.00        25\n",
            "\n",
            "    accuracy                           0.98       126\n",
            "   macro avg       0.98      0.98      0.98       126\n",
            "weighted avg       0.98      0.98      0.98       126\n",
            "\n"
          ]
        }
      ],
      "source": [
        "for model in [lgbm]:\n",
        "    model_name = type(model).__name__\n",
        "    print(f\"\\nEvaluating {model_name}...\")\n",
        "    y_pred = model.predict(X_test)\n",
        "\n",
        "    # Calculate evaluation metrics\n",
        "    accuracy = accuracy_score(y_test, y_pred)\n",
        "    precision = precision_score(y_test, y_pred, average='weighted', zero_division=0)\n",
        "    recall = recall_score(y_test, y_pred, average='weighted', zero_division=0)\n",
        "    f1 = f1_score(y_test, y_pred, average='weighted', zero_division=0)\n",
        "\n",
        "    print(f\"Metrics for {model_name}:\")\n",
        "    print(f\"  Accuracy: {accuracy:.4f}\")\n",
        "    print(f\"  Precision: {precision:.4f}\")\n",
        "    print(f\"  Recall: {recall:.4f}\")\n",
        "    print(f\"  F1 Score: {f1:.4f}\")\n",
        "\n",
        "    # Display confusion matrix and classification report\n",
        "    cm = confusion_matrix(y_test, y_pred)\n",
        "    print(\"\\n  Confusion Matrix:\")\n",
        "    plt.figure(figsize=(8, 6))\n",
        "    sns.heatmap(cm, annot=True, fmt='d', cmap='Blues')\n",
        "    plt.title(f'Confusion Matrix for {model_name}')\n",
        "    plt.xlabel('Predicted')\n",
        "    plt.ylabel('True')\n",
        "    plt.show()\n",
        "\n",
        "    print(\"\\n  Classification Report:\")\n",
        "    print(classification_report(y_test, y_pred, zero_division=0))"
      ]
    },
    {
      "cell_type": "code",
      "execution_count": null,
      "metadata": {
        "id": "B0Uzk9AR6I7S",
        "colab": {
          "base_uri": "https://localhost:8080/"
        },
        "outputId": "cbc89440-8a58-463f-ce6d-742ede184745"
      },
      "outputs": [
        {
          "output_type": "stream",
          "name": "stdout",
          "text": [
            "CatBoost model saved successfully to /content/models/questionar_stress_model.pkl\n"
          ]
        }
      ],
      "source": [
        "import pickle\n",
        "import os\n",
        "\n",
        "# Define the directory to save the model\n",
        "model_dir = '/content/models'\n",
        "os.makedirs(model_dir, exist_ok=True)\n",
        "\n",
        "# Define the path to save the model file\n",
        "model_path = os.path.join(model_dir, \"questionar_stress_model.pkl\")\n",
        "\n",
        "# Save the CatBoost model\n",
        "with open(model_path, \"wb\") as f:\n",
        "    pickle.dump(cb, f)\n",
        "\n",
        "print(f\"LGBMClassifier: model saved successfully to {model_path}\")"
      ]
    }
  ],
  "metadata": {
    "kernelspec": {
      "display_name": "Python 3",
      "name": "python3"
    },
    "language_info": {
      "codemirror_mode": {
        "name": "ipython",
        "version": 3
      },
      "file_extension": ".py",
      "mimetype": "text/x-python",
      "name": "python",
      "nbconvert_exporter": "python",
      "pygments_lexer": "ipython3",
      "version": "3.12.11"
    },
    "colab": {
      "provenance": [],
      "gpuType": "T4"
    },
    "accelerator": "GPU"
  },
  "nbformat": 4,
  "nbformat_minor": 0
}